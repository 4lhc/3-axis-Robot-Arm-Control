{
 "cells": [
  {
   "cell_type": "code",
   "execution_count": 20,
   "metadata": {
    "collapsed": true
   },
   "outputs": [],
   "source": [
    "import serial\n",
    "import sys\n",
    "import serial.tools.list_ports as ports\n",
    "import ipywidgets as widgets\n",
    "from IPython.display import display"
   ]
  },
  {
   "cell_type": "code",
   "execution_count": 21,
   "metadata": {
    "collapsed": false
   },
   "outputs": [
    {
     "name": "stdout",
     "output_type": "stream",
     "text": [
      "Connected to /dev/ttyUSB1\n"
     ]
    }
   ],
   "source": [
    "#Get list of devices and look for devices with name \"/dev/ttyACMx\"\n",
    "devices = [comport.device for comport in ports.comports() if comport.device.rfind(\"USB\") is not -1]\n",
    "for p in devices:\n",
    "    try:\n",
    "        ser = serial.Serial(p, 9600, timeout=0)\n",
    "        connected = True\n",
    "        print(\"Connected to {}\".format(p))\n",
    "        break\n",
    "    except SerialException:\n",
    "        print(\"SerialException: \")\n",
    "        print(\"Couldn't connect to serial port\")\n",
    "        sys.exit(1)\n"
   ]
  },
  {
   "cell_type": "code",
   "execution_count": 23,
   "metadata": {
    "collapsed": false
   },
   "outputs": [
    {
     "data": {
      "application/vnd.jupyter.widget-view+json": {
       "model_id": "ab81bac987d04c4cb7a1f6a62036471c"
      }
     },
     "metadata": {},
     "output_type": "display_data"
    },
    {
     "data": {
      "application/vnd.jupyter.widget-view+json": {
       "model_id": "8d1100ed75704bf881e85f1d98022944"
      }
     },
     "metadata": {},
     "output_type": "display_data"
    },
    {
     "data": {
      "application/vnd.jupyter.widget-view+json": {
       "model_id": "da9dc60658094e2884b53511be64e56d"
      }
     },
     "metadata": {},
     "output_type": "display_data"
    },
    {
     "data": {
      "application/vnd.jupyter.widget-view+json": {
       "model_id": "172fabc13a8a42908f727854c44f5cce"
      }
     },
     "metadata": {},
     "output_type": "display_data"
    }
   ],
   "source": [
    "base_pos = 90\n",
    "vert_pos = 120\n",
    "hori_pos = 100\n",
    "\n",
    "base_slider, vertical_slider, horizontal_slider = \\\n",
    "                widgets.IntSlider(description=\"base\", value = base_pos, min=20, max=135, step=1),\\\n",
    "                widgets.IntSlider(description=\"vertical\", value = vert_pos, min=80, max=140, step=1),\\\n",
    "                widgets.IntSlider(description=\"horizontal\", value = hori_pos, min=80, max=165, step=1)\n",
    "\n",
    "reset_button = widgets.Button(description=\"Close Connection\")\n",
    "            \n",
    "display(base_slider, vertical_slider, horizontal_slider, reset_button)\n",
    "\n",
    "\n",
    "\n",
    "def base_servo(change):\n",
    "    command = \"b:{};\".format(change['new'])\n",
    "    ser.write(bytes(command, encoding=\"ascii\"))\n",
    "\n",
    "def vert_servo(change):\n",
    "    command = \"v:{};\".format(change['new'])\n",
    "    ser.write(bytes(command, encoding=\"ascii\"))\n",
    "\n",
    "def hori_servo(change):\n",
    "    command = \"h:{};\".format(change['new'])\n",
    "    ser.write(bytes(command, encoding=\"ascii\"))\n",
    "\n",
    "def on_button_click(b):\n",
    "    base_slider.value = base_pos\n",
    "    vertical_slider.value = vert_pos\n",
    "    horizontal_slider.value = hori_pos\n",
    "    ser.close()\n",
    "    \n",
    "base_slider.observe(base_servo, names='value')\n",
    "vertical_slider.observe(vert_servo, names='value')\n",
    "horizontal_slider.observe(hori_servo, names='value')\n",
    "reset_button.on_click(on_button_click, )"
   ]
  },
  {
   "cell_type": "code",
   "execution_count": null,
   "metadata": {
    "collapsed": true
   },
   "outputs": [],
   "source": []
  }
 ],
 "metadata": {
  "kernelspec": {
   "display_name": "Python 3",
   "language": "python",
   "name": "python3"
  },
  "language_info": {
   "codemirror_mode": {
    "name": "ipython",
    "version": 3
   },
   "file_extension": ".py",
   "mimetype": "text/x-python",
   "name": "python",
   "nbconvert_exporter": "python",
   "pygments_lexer": "ipython3",
   "version": "3.6.3"
  }
 },
 "nbformat": 4,
 "nbformat_minor": 2
}
